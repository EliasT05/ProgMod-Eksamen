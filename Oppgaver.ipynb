{
 "cells": [
  {
   "cell_type": "code",
   "execution_count": 1,
   "metadata": {},
   "outputs": [],
   "source": [
    "import pandas as pd\n",
    "import matplotlib.pyplot as plt\n",
    "from sklearn.model_selection import train_test_split\n",
    "from sklearn.linear_model import LogisticRegression\n",
    "from sklearn.metrics import precision_score, recall_score, f1_score, accuracy_score\n",
    "from sklearn import tree\n",
    "import random"
   ]
  },
  {
   "cell_type": "code",
   "execution_count": 2,
   "metadata": {},
   "outputs": [
    {
     "data": {
      "image/png": "[encoded data removed]",
      "text/plain": [
       "<Figure size 640x480 with 1 Axes>"
      ]
     },
     "metadata": {},
     "output_type": "display_data"
    }
   ],
   "source": [
    "vin_data = pd.read_csv(\"https://www.uio.no/studier/emner/matnat/ifi/IN-KJM1900/h20/datafiler/vin.csv\")\n",
    "plt.bar(vin_data[\"quality\"], vin_data[\"total sulfur dioxide\"])\n",
    "plt.show()\n",
    "# TODO legge akser"
   ]
  },
  {
   "cell_type": "code",
   "execution_count": 3,
   "metadata": {},
   "outputs": [
    {
     "data": {
      "text/html": [
       "<div>\n",
       "<style scoped>\n",
       "    .dataframe tbody tr th:only-of-type {\n",
       "        vertical-align: middle;\n",
       "    }\n",
       "\n",
       "    .dataframe tbody tr th {\n",
       "        vertical-align: top;\n",
       "    }\n",
       "\n",
       "    .dataframe thead th {\n",
       "        text-align: right;\n",
       "    }\n",
       "</style>\n",
       "<table border=\"1\" class=\"dataframe\">\n",
       "  <thead>\n",
       "    <tr style=\"text-align: right;\">\n",
       "      <th></th>\n",
       "      <th>fixed acidity</th>\n",
       "      <th>volatile acidity</th>\n",
       "      <th>citric acid</th>\n",
       "      <th>residual sugar</th>\n",
       "      <th>chlorides</th>\n",
       "      <th>free sulfur dioxide</th>\n",
       "      <th>total sulfur dioxide</th>\n",
       "      <th>density</th>\n",
       "      <th>pH</th>\n",
       "      <th>sulphates</th>\n",
       "      <th>alcohol</th>\n",
       "      <th>quality</th>\n",
       "      <th>kvalitetskategoriene</th>\n",
       "    </tr>\n",
       "  </thead>\n",
       "  <tbody>\n",
       "    <tr>\n",
       "      <th>0</th>\n",
       "      <td>7.4</td>\n",
       "      <td>0.70</td>\n",
       "      <td>0.00</td>\n",
       "      <td>1.9</td>\n",
       "      <td>0.076</td>\n",
       "      <td>11.0</td>\n",
       "      <td>34.0</td>\n",
       "      <td>0.9978</td>\n",
       "      <td>3.51</td>\n",
       "      <td>0.56</td>\n",
       "      <td>9.4</td>\n",
       "      <td>5</td>\n",
       "      <td>0</td>\n",
       "    </tr>\n",
       "    <tr>\n",
       "      <th>1</th>\n",
       "      <td>7.8</td>\n",
       "      <td>0.88</td>\n",
       "      <td>0.00</td>\n",
       "      <td>2.6</td>\n",
       "      <td>0.098</td>\n",
       "      <td>25.0</td>\n",
       "      <td>67.0</td>\n",
       "      <td>0.9968</td>\n",
       "      <td>3.20</td>\n",
       "      <td>0.68</td>\n",
       "      <td>9.8</td>\n",
       "      <td>5</td>\n",
       "      <td>0</td>\n",
       "    </tr>\n",
       "    <tr>\n",
       "      <th>2</th>\n",
       "      <td>7.8</td>\n",
       "      <td>0.76</td>\n",
       "      <td>0.04</td>\n",
       "      <td>2.3</td>\n",
       "      <td>0.092</td>\n",
       "      <td>15.0</td>\n",
       "      <td>54.0</td>\n",
       "      <td>0.9970</td>\n",
       "      <td>3.26</td>\n",
       "      <td>0.65</td>\n",
       "      <td>9.8</td>\n",
       "      <td>5</td>\n",
       "      <td>0</td>\n",
       "    </tr>\n",
       "    <tr>\n",
       "      <th>3</th>\n",
       "      <td>11.2</td>\n",
       "      <td>0.28</td>\n",
       "      <td>0.56</td>\n",
       "      <td>1.9</td>\n",
       "      <td>0.075</td>\n",
       "      <td>17.0</td>\n",
       "      <td>60.0</td>\n",
       "      <td>0.9980</td>\n",
       "      <td>3.16</td>\n",
       "      <td>0.58</td>\n",
       "      <td>9.8</td>\n",
       "      <td>6</td>\n",
       "      <td>1</td>\n",
       "    </tr>\n",
       "    <tr>\n",
       "      <th>4</th>\n",
       "      <td>7.4</td>\n",
       "      <td>0.70</td>\n",
       "      <td>0.00</td>\n",
       "      <td>1.9</td>\n",
       "      <td>0.076</td>\n",
       "      <td>11.0</td>\n",
       "      <td>34.0</td>\n",
       "      <td>0.9978</td>\n",
       "      <td>3.51</td>\n",
       "      <td>0.56</td>\n",
       "      <td>9.4</td>\n",
       "      <td>5</td>\n",
       "      <td>0</td>\n",
       "    </tr>\n",
       "  </tbody>\n",
       "</table>\n",
       "</div>"
      ],
      "text/plain": [
       "   fixed acidity  volatile acidity  citric acid  residual sugar  chlorides   \n",
       "0            7.4              0.70         0.00             1.9      0.076  \\\n",
       "1            7.8              0.88         0.00             2.6      0.098   \n",
       "2            7.8              0.76         0.04             2.3      0.092   \n",
       "3           11.2              0.28         0.56             1.9      0.075   \n",
       "4            7.4              0.70         0.00             1.9      0.076   \n",
       "\n",
       "   free sulfur dioxide  total sulfur dioxide  density    pH  sulphates   \n",
       "0                 11.0                  34.0   0.9978  3.51       0.56  \\\n",
       "1                 25.0                  67.0   0.9968  3.20       0.68   \n",
       "2                 15.0                  54.0   0.9970  3.26       0.65   \n",
       "3                 17.0                  60.0   0.9980  3.16       0.58   \n",
       "4                 11.0                  34.0   0.9978  3.51       0.56   \n",
       "\n",
       "   alcohol  quality  kvalitetskategoriene  \n",
       "0      9.4        5                     0  \n",
       "1      9.8        5                     0  \n",
       "2      9.8        5                     0  \n",
       "3      9.8        6                     1  \n",
       "4      9.4        5                     0  "
      ]
     },
     "execution_count": 3,
     "metadata": {},
     "output_type": "execute_result"
    }
   ],
   "source": [
    "vin_data[\"kvalitetskategoriene\"] = vin_data[\"quality\"].apply(lambda x: 0 if x < 6 else 1)\n",
    "vin_data.head()"
   ]
  },
  {
   "cell_type": "code",
   "execution_count": 4,
   "metadata": {},
   "outputs": [
    {
     "name": "stdout",
     "output_type": "stream",
     "text": [
      "Precision: 0.72 (+/- 0.03)\n"
     ]
    }
   ],
   "source": [
    "# LogisticRegression\n",
    "\n",
    "from sklearn.model_selection import cross_val_score\n",
    "\n",
    "\n",
    "criteria = vin_data[['alcohol', 'pH', 'fixed acidity', 'density', 'total sulfur dioxide']] # features :, 'free sulfur dioxide', 'volatile acidity', 'citric acid', 'residual sugar', 'chlorides', 'total sulfur dioxide', 'sulphates'\n",
    "categories = vin_data['kvalitetskategoriene']                         # labels\n",
    "\n",
    "\n",
    "ml_data = train_test_split(criteria, categories, train_size=0.8, random_state=42)\n",
    "\n",
    "training_criteria = ml_data[0]\n",
    "test_criteria = ml_data[1]\n",
    "training_categories = ml_data[2]\n",
    "test_categories = ml_data[3]\n",
    "\n",
    "model = LogisticRegression(max_iter=20000)  # Makes the model\n",
    "model.fit(training_criteria, training_categories)   # Trains the model\n",
    "\n",
    "predictions = model.predict(test_criteria)\n",
    "\n",
    "# Perform 5-fold cross-validation\n",
    "scores = cross_val_score(model, criteria, categories, cv=5, scoring='precision_macro')\n",
    "\n",
    "# Print the mean precision score and its standard deviation\n",
    "print(f'Precision: {scores.mean():.2f} (+/- {scores.std():.2f})')"
   ]
  },
  {
   "cell_type": "code",
   "execution_count": 5,
   "metadata": {},
   "outputs": [
    {
     "name": "stdout",
     "output_type": "stream",
     "text": [
      "0.734\n"
     ]
    }
   ],
   "source": [
    "# tree.DecisionTreeClassifier\n",
    "\n",
    "criteria = vin_data[['alcohol', 'pH', 'fixed acidity', 'density']] # features :, 'free sulfur dioxide', 'volatile acidity', 'citric acid', 'residual sugar', 'chlorides', 'total sulfur dioxide', 'sulphates'\n",
    "categories = vin_data['kvalitetskategoriene']                         # labels\n",
    "\n",
    "ml_data = train_test_split(criteria, categories, train_size=0.8, random_state=42)\n",
    "\n",
    "training_criteria = ml_data[0]\n",
    "test_criteria = ml_data[1]\n",
    "training_categories = ml_data[2]\n",
    "test_categories = ml_data[3]\n",
    "\n",
    "model = tree.DecisionTreeClassifier()  # Makes the model\n",
    "model.fit(training_criteria, training_categories)   # Trains the model\n",
    "\n",
    "predictions = model.predict(test_criteria)\n",
    "\n",
    "precision = precision_score(test_categories, predictions, average='macro')\n",
    "\n",
    "print(round(precision, 3))"
   ]
  },
  {
   "cell_type": "code",
   "execution_count": 6,
   "metadata": {},
   "outputs": [
    {
     "name": "stdout",
     "output_type": "stream",
     "text": [
      "0.8108108108108109\n"
     ]
    }
   ],
   "source": [
    "# RandomForestClassifier\n",
    "from sklearn.ensemble import RandomForestClassifier\n",
    "\n",
    "criteria = vin_data[['alcohol', 'pH', 'fixed acidity', 'density', 'volatile acidity', 'citric acid', 'residual sugar', 'chlorides']] # features\n",
    "categories = vin_data['kvalitetskategoriene']                         # labels\n",
    "\n",
    "ml_data = train_test_split(criteria, categories, train_size=0.8, random_state=42)\n",
    "\n",
    "training_criteria = ml_data[0]\n",
    "test_criteria = ml_data[1]\n",
    "training_categories = ml_data[2]\n",
    "test_categories = ml_data[3]\n",
    "\n",
    "model = RandomForestClassifier()  # Makes the model\n",
    "model.fit(training_criteria, training_categories)   # Trains the model\n",
    "\n",
    "predictions = model.predict(test_criteria)\n",
    "\n",
    "precision = precision_score(test_categories, predictions, average='macro')\n",
    "\n",
    "print(precision)"
   ]
  },
  {
   "cell_type": "code",
   "execution_count": 7,
   "metadata": {},
   "outputs": [
    {
     "name": "stdout",
     "output_type": "stream",
     "text": [
      "Sjansen for at minst 2 stykker har samme bursdag er: 0.59\n",
      "Gjennomsnittlig mengde bursdager pr år er: 0.868\n"
     ]
    }
   ],
   "source": [
    "def birthday_simulation(n):\n",
    "    trials = 10000\n",
    "    matching_birthdays = 0\n",
    "    matching_birthdays_tot = 0\n",
    "    for i in range(trials):\n",
    "        birthdays = [random.randint(1, 365) for j in range(n)]\n",
    "        if len(birthdays) != len(set(birthdays)):\n",
    "            matching_birthdays += 1\n",
    "            matching_birthdays_tot += (len(birthdays)-len(set(birthdays)))\n",
    "    return round(matching_birthdays/trials, 3), round(matching_birthdays_tot/trials, 3)\n",
    "\n",
    "print('Sjansen for at minst 2 stykker har samme bursdag er:',birthday_simulation(26)[0])\n",
    "print('Gjennomsnittlig mengde bursdager pr år er:', birthday_simulation(26)[1])\n"
   ]
  },
  {
   "cell_type": "code",
   "execution_count": 8,
   "metadata": {},
   "outputs": [
    {
     "name": "stdout",
     "output_type": "stream",
     "text": [
      "Sjansen for at barnet får huntingsons er: 0.501\n"
     ]
    }
   ],
   "source": [
    "def huntington_simulation():\n",
    "    trials = 10000\n",
    "    disease_occurrence = 0\n",
    "    for i in range(trials):\n",
    "        father_allele = random.choice(['H', 'h'])\n",
    "        mother_allele = 'h'\n",
    "        child_genotype = father_allele + mother_allele\n",
    "        if 'H' in child_genotype:\n",
    "            disease_occurrence += 1\n",
    "    return round(disease_occurrence/trials, 3)\n",
    "\n",
    "print('Sjansen for at barnet får huntingsons er:', huntington_simulation())"
   ]
  },
  {
   "cell_type": "code",
   "execution_count": 9,
   "metadata": {},
   "outputs": [
    {
     "name": "stdout",
     "output_type": "stream",
     "text": [
      "Sjansen for at barnet får huntingsons er: 0.755\n"
     ]
    }
   ],
   "source": [
    "def huntington_simulation_mother():\n",
    "    trials = 10000\n",
    "    disease_occurrence = 0\n",
    "    for i in range(trials):\n",
    "        father_allele = random.choice(['H', 'h'])\n",
    "        mother_allele = random.choice(['H', 'h'])\n",
    "        child_genotype = father_allele + mother_allele\n",
    "        if 'H' in child_genotype:\n",
    "            disease_occurrence += 1\n",
    "    return round(disease_occurrence/trials, 3)\n",
    "\n",
    "print('Sjansen for at barnet får huntingsons er:', huntington_simulation_mother())"
   ]
  },
  {
   "cell_type": "code",
   "execution_count": 10,
   "metadata": {},
   "outputs": [
    {
     "data": {
      "image/png": "[encoded data removed]",
      "text/plain": [
       "<Figure size 640x480 with 1 Axes>"
      ]
     },
     "metadata": {},
     "output_type": "display_data"
    }
   ],
   "source": [
    "# Dihybrid Kryssning\n",
    "def dihybrid_cross_simulation():\n",
    "    trials = 10000\n",
    "    results = {'smooth_g':0, 'smooth_y':0, 'wrinkled_y':0, 'wrinkled_g':0}\n",
    "\n",
    "    for i in range(trials):\n",
    "        father_allele = random.choice(['y', 'Y']) + random.choice(['r', 'R'])\n",
    "        mother_allele = random.choice(['y', 'Y']) + random.choice(['r', 'R'])\n",
    "        child_genotype = father_allele + mother_allele\n",
    "        if 'R' in child_genotype:\n",
    "            if 'Y' in child_genotype:\n",
    "                results['smooth_y'] += 1    \n",
    "            else:\n",
    "                results['smooth_g'] += 1\n",
    "        elif 'Y' in child_genotype:\n",
    "            results['wrinkled_y'] += 1\n",
    "        else:\n",
    "            results['wrinkled_g'] += 1\n",
    "            \n",
    "    for key in results:\n",
    "        results[key] /= trials\n",
    "        \n",
    "    return results\n",
    "\n",
    "plt.pie(list(dihybrid_cross_simulation().values()), labels=dihybrid_cross_simulation().keys(), autopct='%1.1f%%')\n",
    "plt.show()"
   ]
  },
  {
   "cell_type": "code",
   "execution_count": 23,
   "metadata": {},
   "outputs": [
    {
     "name": "stdout",
     "output_type": "stream",
     "text": [
      "32.85055\n"
     ]
    }
   ],
   "source": [
    "def airplane_rnd_seating():\n",
    "    moves = 0\n",
    "    trials = 100000\n",
    "    for i in range(trials):\n",
    "        idiotpos = random.randint(0, 99)\n",
    "        idiotseat = random.randint(0, 99)\n",
    "        myseat = random.randint(0, 99)\n",
    "        seats = [j for j in range(100)]\n",
    "\n",
    "        while idiotpos != idiotseat and idiotpos != myseat:\n",
    "            moves += 1\n",
    "            seats.remove(idiotpos)\n",
    "            idiotpos = random.choice(seats)\n",
    "    return (moves/trials)\n",
    "\n",
    "print(airplane_rnd_seating())"
   ]
  }
 ],
 "metadata": {
  "kernelspec": {
   "display_name": "Python 3",
   "language": "python",
   "name": "python3"
  },
  "language_info": {
   "codemirror_mode": {
    "name": "ipython",
    "version": 3
   },
   "file_extension": ".py",
   "mimetype": "text/x-python",
   "name": "python",
   "nbconvert_exporter": "python",
   "pygments_lexer": "ipython3",
   "version": "3.11.3"
  },
  "orig_nbformat": 4
 },
 "nbformat": 4,
 "nbformat_minor": 2
}
